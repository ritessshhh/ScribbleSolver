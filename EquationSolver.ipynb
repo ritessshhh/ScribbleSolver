{
  "cells": [
    {
      "cell_type": "code",
      "execution_count": null,
      "metadata": {
        "id": "tQSMxkELJSEK"
      },
      "outputs": [],
      "source": [
        "import numpy as np\n",
        "import pandas as pd\n",
        "import cv2\n",
        "import os\n",
        "from os import listdir\n",
        "from os.path import join\n",
        "import matplotlib.pyplot as plt"
      ]
    },
    {
      "cell_type": "code",
      "execution_count": null,
      "metadata": {
        "id": "GkanzRoGPpLD"
      },
      "outputs": [],
      "source": [
        "index_dir={'0':0,'1':1,'2':2,'3':3,'4':4,'5':5,'6':6,'7':7,'8':8,'9':9,'+':10,'-':11,'times':12, '!':13, '(':14, ')':15}, '+': 16"
      ]
    },
    {
      "cell_type": "code",
      "execution_count": null,
      "metadata": {
        "id": "YQnzmPYhWwOn"
      },
      "outputs": [],
      "source": [
        "def get_index(directory):\n",
        "    try:\n",
        "        return index_dir[directory]\n",
        "    except KeyError:\n",
        "        print(f\"Directory '{directory}' not found in index_dir.\")\n",
        "        return None\n",
        "\n",
        "def load_images(folder):\n",
        "    train_data = []\n",
        "\n",
        "    for filename in os.listdir(folder):\n",
        "        img = cv2.imread(os.path.join(folder,filename), cv2.IMREAD_GRAYSCALE) \n",
        "        #img = ~img\n",
        "        if img is not None:\n",
        "            img = ~img\n",
        "            _, img = cv2.threshold(img, 127, 255, cv2.THRESH_BINARY)\n",
        "            ctrs, _ = cv2.findContours(img, cv2.RETR_EXTERNAL, cv2.CHAIN_APPROX_NONE)\n",
        "            cnt = sorted(ctrs, key=lambda ctr: cv2.boundingRect(ctr)[0]) \n",
        "            m = 0\n",
        "            for c in cnt:\n",
        "                x, y, w, h = cv2.boundingRect(c)\n",
        "                m = max(w*h, m)\n",
        "                if m == w*h:\n",
        "                    x_max,y_max,w_max,h_max=x,y,w,h\n",
        "            im_crop = img[y_max:y_max+h_max+10, x_max:x_max+w_max+10] \n",
        "            im_resize = cv2.resize(im_crop, (28, 28)) \n",
        "            im_resize = np.reshape(im_resize, (784, 1)) \n",
        "            train_data.append(im_resize)\n",
        "    return train_data"
      ]
    },
    {
      "cell_type": "code",
      "source": [
        "!unzip /content/drive/MyDrive/extracted_images.zip"
      ],
      "metadata": {
        "id": "_476bc5RsCGE"
      },
      "execution_count": null,
      "outputs": []
    },
    {
      "cell_type": "code",
      "execution_count": null,
      "metadata": {
        "id": "CPWxAAHPW0hI"
      },
      "outputs": [],
      "source": [
        "dataset_dir = '/content/extracted_images'\n",
        "directory_list = listdir(dataset_dir)\n",
        "\n",
        "first = True\n",
        "data = []\n",
        "print('Importing...')\n",
        "for directory in directory_list:\n",
        "    full_path = os.path.join(dataset_dir, directory)\n",
        "    if os.path.isdir(full_path):\n",
        "        print(directory)\n",
        "        if first:\n",
        "            first = False\n",
        "            data = load_images(full_path)\n",
        "            for i in range(len(data)):\n",
        "                data[i] = np.append(data[i], [str(get_index(directory))])\n",
        "            continue\n",
        "\n",
        "        auxiliary_data = load_images(full_path)\n",
        "        for i in range(len(auxiliary_data)):\n",
        "            auxiliary_data[i] = np.append(auxiliary_data[i], [str(get_index(directory))])\n",
        "        data = np.concatenate((data, auxiliary_data))\n",
        "\n",
        "df = pd.DataFrame(data, index=None)\n",
        "df.to_csv('./sample_data/train_data.csv', index=False)"
      ]
    },
    {
      "cell_type": "code",
      "execution_count": null,
      "metadata": {
        "id": "KIECLtYeH912"
      },
      "outputs": [],
      "source": [
        "from tensorflow.keras.models import model_from_json\n",
        "print('Loading Model...')\n",
        "model_json = open('model/model.json', 'r')\n",
        "loaded_model_json = model_json.read()\n",
        "model_json.close()\n",
        "model = model_from_json(loaded_model_json)\n",
        "\n",
        "print('Loading weights...')\n",
        "model.load_weights(\"model/model_weights.h5\")"
      ]
    },
    {
      "cell_type": "code",
      "execution_count": null,
      "metadata": {
        "id": "4i4cPCcJH-qX"
      },
      "outputs": [],
      "source": [
        "labels = [ '0', '1', '2', '3', '4', '5', '6', '7', '8', '9','+','-','x']"
      ]
    },
    {
      "cell_type": "code",
      "execution_count": null,
      "metadata": {
        "id": "gc6-3pNeIB70"
      },
      "outputs": [],
      "source": [
        "from PIL import Image,ImageDraw,ImageGrab"
      ]
    },
    {
      "cell_type": "code",
      "execution_count": null,
      "metadata": {
        "id": "9465t1j7ID9f"
      },
      "outputs": [],
      "source": [
        "def activate_event(event):\n",
        "        global lasx,lasy\n",
        "        lasx,lasy=event.x,event.y   "
      ]
    },
    {
      "cell_type": "code",
      "execution_count": null,
      "metadata": {
        "id": "E2soKhmHITpI"
      },
      "outputs": [],
      "source": [
        "def draw_smth(event):\n",
        "    global lasx,lasy\n",
        "    cv.create_line((lasx,lasy,event.x,event.y),fill='black',width=4)\n",
        "    #cv.draw.line([x1, y1, x2, y2], fill=\"black\", width=7)\n",
        "    lasx,lasy=event.x,event.y"
      ]
    },
    {
      "cell_type": "code",
      "execution_count": null,
      "metadata": {
        "id": "eqEmZH68IVV8"
      },
      "outputs": [],
      "source": [
        "def save():\n",
        "    filename=\"canvas.jpg\"\n",
        "    widget=cv\n",
        "    x=root.winfo_rootx()+widget.winfo_x()+50\n",
        "    y=root.winfo_rooty()+widget.winfo_y()+50\n",
        "    x1=x+widget.winfo_width()\n",
        "    y1=y+widget.winfo_height()\n",
        "    \n",
        "    ImageGrab.grab().crop((x,y,x1,y1)).save(filename)"
      ]
    },
    {
      "cell_type": "code",
      "execution_count": null,
      "metadata": {
        "id": "7HwyVRK6IXUj"
      },
      "outputs": [],
      "source": [
        "from sympy import *\n",
        "\n",
        "class Solver:\n",
        "\n",
        "    def __init__(self, equation):\n",
        "        self.equation = str(equation)\n",
        "        self.leftEqu = []\n",
        "\n",
        "    def convertEquationIntoGeneralForm(self):\n",
        "\n",
        "        leftSide, rightSide = '', ''\n",
        "        equalIndx = self.equation.index('=')\n",
        "        leftSide = self.equation[0:equalIndx]\n",
        "        rightSide = self.equation[equalIndx+1:len(self.equation)]\n",
        "\n",
        "        if rightSide[0].isalpha() or rightSide[0].isdigit():\n",
        "            rightSide = '+' + rightSide\n",
        "\n",
        "        for i in range(0, len(rightSide)):\n",
        "            if rightSide[i] == '+':\n",
        "                rightSide = rightSide[0:i] + '-' + rightSide[i+1:len(rightSide)]\n",
        "            elif rightSide[i] == '-':\n",
        "                rightSide = rightSide[0:i] + '+' + rightSide[i+1:len(rightSide)]\n",
        "            leftSide += rightSide[i]\n",
        "\n",
        "        self.equation = leftSide + '=' + '0'\n",
        "        self.leftEqu = leftSide\n",
        "\n",
        "    def solveEquation(self):\n",
        "\n",
        "        self.convertEquationIntoGeneralForm()\n",
        "        sympy_eq = sympify(\"Eq(\" + self.equation.replace(\"=\", \",\") + \")\")\n",
        "        roots = solve(sympy_eq)\n",
        "        \n",
        "        return roots  "
      ]
    },
    {
      "cell_type": "code",
      "execution_count": null,
      "metadata": {
        "id": "PUNmoOMpIbMN"
      },
      "outputs": [],
      "source": [
        "def predictFromArray(arr):\n",
        "    result = model.predict_classes(arr)\n",
        "    return result    "
      ]
    },
    {
      "cell_type": "code",
      "execution_count": null,
      "metadata": {
        "id": "iFRvtCJ4Ic6V"
      },
      "outputs": [],
      "source": [
        "def solution():\n",
        "    img = cv2.imread('canvas.jpg',cv2.IMREAD_GRAYSCALE)\n",
        "    img = ~img\n",
        "    ret,thresh = cv2.threshold(img,127, 255,cv2.THRESH_BINARY)\n",
        "    ctrs,_ = cv2.findContours(thresh, cv2.RETR_EXTERNAL, cv2.CHAIN_APPROX_SIMPLE)\n",
        "    cnt = sorted(ctrs, key=lambda ctr: cv2.boundingRect(ctr)[0])\n",
        "    img_data = []\n",
        "    rects = []\n",
        "    for c in cnt :\n",
        "        x, y, w, h = cv2.boundingRect(c)\n",
        "        rect = [x, y, w, h]\n",
        "        rects.append(rect)\n",
        "    final_rect = [i for i in rects]\n",
        "    for r in final_rect:\n",
        "        x,y,w,h = r[0],r[1],r[2],r[3]\n",
        "        img = thresh[y:y+h+10, x:x+w+10]\n",
        "        img = cv2.resize(img, (28, 28)) \n",
        "        img = np.reshape(img, (1, 28, 28)) \n",
        "        img_data.append(img)\n",
        "        \n",
        "    mainEquation=[]\n",
        "    operation = ''\n",
        "    for i in range(len(img_data)):\n",
        "                img_data[i] = np.array(img_data[i])\n",
        "                img_data[i] = img_data[i].reshape(-1, 28, 28, 1)\n",
        "                result=predictFromArray(img_data[i])\n",
        "                i=result[0]\n",
        "                mainEquation.append(labels[i])\n",
        "        \n",
        "    StringEquation=\"\"\n",
        "    for i in range(len(mainEquation)):\n",
        "            a=mainEquation[i]\n",
        "            if(a.isdigit()==False and a.isalpha()==False and i<len(mainEquation)-1):\n",
        "                if(a==mainEquation[i+1]=='-'):\n",
        "                    StringEquation+='='\n",
        "                else:\n",
        "                    StringEquation+=a\n",
        "            if(a.isalpha()==True):\n",
        "                if(i>0):\n",
        "                    if(mainEquation[i-1].isdigit()):\n",
        "                        StringEquation+=\"*\"+a\n",
        "                    else:\n",
        "                        StringEquation+=a\n",
        "                else:\n",
        "                    StringEquation+=a\n",
        "            if(a.isdigit()==True):\n",
        "                if(i>0):\n",
        "                    if(mainEquation[i-1].isdigit()):\n",
        "                        StringEquation+=a\n",
        "                    elif(mainEquation[i-1].isalpha()):\n",
        "                         StringEquation+=\"^\"+a\n",
        "                    else:\n",
        "                        StringEquation+=a\n",
        "                else:\n",
        "                    StringEquation+=a\n",
        "            \n",
        "    newStr=\"\"\n",
        "    l=list(StringEquation)   \n",
        "    for i in range(len(l)):\n",
        "            if(l[i]==\"=\"):\n",
        "                newStr=l[:i+1]+l[i+2:]\n",
        "    print(newStr)\n",
        "    equ=\"\"\n",
        "    for i in newStr:\n",
        "            equ+=i\n",
        "    solution=Solver(equ)\n",
        "            \n",
        "    str1=''        \n",
        "    roots=solution.solveEquation()\n",
        "    st=[]\n",
        "    for i in roots:\n",
        "        i=str(i)\n",
        "        st.append(i)\n",
        "       \n",
        "    str1=', '.join(st)\n",
        " \n",
        "    solving(equ,str1)      "
      ]
    },
    {
      "cell_type": "code",
      "execution_count": null,
      "metadata": {
        "id": "-s6JS6DFIfdn"
      },
      "outputs": [],
      "source": [
        "from tkinter import*\n",
        "\n",
        "root=Tk()\n",
        "root.resizable(0,0)\n",
        "root.title('Equation Solver')\n",
        "\n",
        "lasx,lasy=None,None\n",
        "\n",
        "cv=Canvas(root,width=1200,height=500,bg='white')\n",
        "#cv=Canvas(root,width=1600,height=500,bg='white')\n",
        "cv.grid(row=0,column=0,pady=2,sticky=W,columnspan=2)\n",
        "cve2=Label(root)\n",
        "cve=Label(root,font=(\"Helvetica\",16))\n",
        "cve.grid(row=0, column=1,pady=1, padx=1)\n",
        "cve2.grid(row=1, column=1,pady=1, padx=1)\n",
        "\n",
        "cv.bind('<Button-1>',activate_event)\n",
        "cv.bind('<B1-Motion>',draw_smth)\n",
        "btn_save=Button(text=\"Save\",command=save,bg='#6495ED',fg='White')\n",
        "btn_save.grid(row=2,column=0,pady=1,padx=1)\n",
        "\n",
        "btn_predict=Button(text=\"Predict\",command=solution,bg='#6495ED',fg='White')\n",
        "btn_predict.grid(row=2,column=1,pady=1,padx=1)\n",
        "\n",
        "\n",
        "def solving(equ,roots):\n",
        "    \n",
        "    cve2.configure(text='Your Equation is : '+equ)\n",
        "    cve.configure(text='Result : '+(roots)+'\\n')    \n",
        "root.mainloop()"
      ]
    }
  ],
  "metadata": {
    "colab": {
      "provenance": []
    },
    "kernelspec": {
      "display_name": "Python 3",
      "name": "python3"
    },
    "language_info": {
      "name": "python"
    }
  },
  "nbformat": 4,
  "nbformat_minor": 0
}