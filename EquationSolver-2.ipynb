{
  "nbformat": 4,
  "nbformat_minor": 0,
  "metadata": {
    "colab": {
      "provenance": []
    },
    "kernelspec": {
      "name": "python3",
      "display_name": "Python 3"
    },
    "language_info": {
      "name": "python"
    }
  },
  "cells": [
    {
      "cell_type": "code",
      "execution_count": 2,
      "metadata": {
        "id": "tQSMxkELJSEK"
      },
      "outputs": [],
      "source": [
        "import numpy as np\n",
        "import pandas as pd\n",
        "import cv2\n",
        "import os\n",
        "from os import listdir\n",
        "from os.path import join\n",
        "import matplotlib.pyplot as plt"
      ]
    },
    {
      "cell_type": "code",
      "source": [
        "index_dir={'0':0,'1':1,'2':2,'3':3,'4':4,'5':5,'6':6,'7':7,'8':8,'9':9,'+':10,'-':11,'times':12}"
      ],
      "metadata": {
        "id": "GkanzRoGPpLD"
      },
      "execution_count": 3,
      "outputs": []
    },
    {
      "cell_type": "code",
      "source": [
        "def get_index(directory):\n",
        "    return index_dir[directory]\n",
        "\n",
        "def load_images(folder):\n",
        "    train_data = []\n",
        "\n",
        "    for filename in os.listdir(folder):\n",
        "        img = cv2.imread(os.path.join(folder,filename), cv2.IMREAD_GRAYSCALE) \n",
        "        #img = ~img\n",
        "        if img is not None:\n",
        "            img = ~img\n",
        "            _, img = cv2.threshold(img, 127, 255, cv2.THRESH_BINARY)\n",
        "            ctrs, _ = cv2.findContours(img, cv2.RETR_EXTERNAL, cv2.CHAIN_APPROX_NONE)\n",
        "            cnt = sorted(ctrs, key=lambda ctr: cv2.boundingRect(ctr)[0]) \n",
        "            m = 0\n",
        "            for c in cnt:\n",
        "                x, y, w, h = cv2.boundingRect(c)\n",
        "                m = max(w*h, m)\n",
        "                if m == w*h:\n",
        "                    x_max,y_max,w_max,h_max=x,y,w,h\n",
        "            im_crop = img[y_max:y_max+h_max+10, x_max:x_max+w_max+10] \n",
        "            im_resize = cv2.resize(im_crop, (28, 28)) \n",
        "            im_resize = np.reshape(im_resize, (784, 1)) \n",
        "            train_data.append(im_resize)\n",
        "    return train_data"
      ],
      "metadata": {
        "id": "YQnzmPYhWwOn"
      },
      "execution_count": 4,
      "outputs": []
    },
    {
      "cell_type": "code",
      "source": [
        "from google.colab import drive\n",
        "drive.mount('/content/drive')"
      ],
      "metadata": {
        "colab": {
          "base_uri": "https://localhost:8080/"
        },
        "id": "7_xj_6zwirSE",
        "outputId": "bc02f7d3-3665-4b28-f1ea-a1667345c453"
      },
      "execution_count": 12,
      "outputs": [
        {
          "output_type": "stream",
          "name": "stdout",
          "text": [
            "Mounted at /content/drive\n"
          ]
        }
      ]
    },
    {
      "cell_type": "code",
      "source": [
        "!apt install unzip\n",
        "!unzip extracted_images.zip\n",
        "\n",
        "dataset_dir = '/content/extracted_images'\n",
        "\n",
        "directory_list = listdir(dataset_dir)\n",
        "#print(directory_list)\n",
        "first = True\n",
        "data = []\n",
        "print('Importing...')\n",
        "for directory in directory_list:\n",
        "        print(directory)\n",
        "        if first:\n",
        "            first = False\n",
        "            load_images(dataset_dir + '/' + directory)\n",
        "            for i in range(0, len(data)):\n",
        "                data[i] = np.append(data[i], [str(get_index(directory))])\n",
        "            continue\n",
        "\n",
        "        auxillary_data = load_images(dataset_dir + directory)\n",
        "        for i in range(0, len(auxillary_data)):\n",
        "            auxillary_data[i] = np.append(auxillary_data[i], [str(get_index(directory))])\n",
        "        data = np.concatenate((data, auxillary_data))\n",
        "\n",
        "df=pd.DataFrame(data,index=None)\n",
        "df.to_csv('./sample_data/train_data.csv', index=False)"
      ],
      "metadata": {
        "colab": {
          "base_uri": "https://localhost:8080/",
          "height": 389
        },
        "id": "CPWxAAHPW0hI",
        "outputId": "62a6e248-b2ae-4308-8ab7-eed06fce4620"
      },
      "execution_count": 11,
      "outputs": [
        {
          "output_type": "stream",
          "name": "stdout",
          "text": [
            "Reading package lists... Done\n",
            "Building dependency tree       \n",
            "Reading state information... Done\n",
            "unzip is already the newest version (6.0-25ubuntu1.1).\n",
            "0 upgraded, 0 newly installed, 0 to remove and 38 not upgraded.\n",
            "Archive:  extracted_images.zip\n",
            "fatal error: read failure while seeking for End-of-centdir-64 signature.\n",
            "  This zipfile is corrupt.\n",
            "unzip:  cannot find zipfile directory in one of extracted_images.zip or\n",
            "        extracted_images.zip.zip, and cannot find extracted_images.zip.ZIP, period.\n"
          ]
        },
        {
          "output_type": "error",
          "ename": "FileNotFoundError",
          "evalue": "ignored",
          "traceback": [
            "\u001b[0;31m---------------------------------------------------------------------------\u001b[0m",
            "\u001b[0;31mFileNotFoundError\u001b[0m                         Traceback (most recent call last)",
            "\u001b[0;32m<ipython-input-11-5a310eb50234>\u001b[0m in \u001b[0;36m<cell line: 6>\u001b[0;34m()\u001b[0m\n\u001b[1;32m      4\u001b[0m \u001b[0mdataset_dir\u001b[0m \u001b[0;34m=\u001b[0m \u001b[0;34m'/content/extracted_images'\u001b[0m\u001b[0;34m\u001b[0m\u001b[0;34m\u001b[0m\u001b[0m\n\u001b[1;32m      5\u001b[0m \u001b[0;34m\u001b[0m\u001b[0m\n\u001b[0;32m----> 6\u001b[0;31m \u001b[0mdirectory_list\u001b[0m \u001b[0;34m=\u001b[0m \u001b[0mlistdir\u001b[0m\u001b[0;34m(\u001b[0m\u001b[0mdataset_dir\u001b[0m\u001b[0;34m)\u001b[0m\u001b[0;34m\u001b[0m\u001b[0;34m\u001b[0m\u001b[0m\n\u001b[0m\u001b[1;32m      7\u001b[0m \u001b[0;31m#print(directory_list)\u001b[0m\u001b[0;34m\u001b[0m\u001b[0;34m\u001b[0m\u001b[0m\n\u001b[1;32m      8\u001b[0m \u001b[0mfirst\u001b[0m \u001b[0;34m=\u001b[0m \u001b[0;32mTrue\u001b[0m\u001b[0;34m\u001b[0m\u001b[0;34m\u001b[0m\u001b[0m\n",
            "\u001b[0;31mFileNotFoundError\u001b[0m: [Errno 2] No such file or directory: '/content/extracted_images'"
          ]
        }
      ]
    },
    {
      "cell_type": "code",
      "source": [
        "from tensorflow.keras.models import model_from_json\n",
        "print('Loading Model...')\n",
        "model_json = open('model/model.json', 'r')\n",
        "loaded_model_json = model_json.read()\n",
        "model_json.close()\n",
        "model = model_from_json(loaded_model_json)\n",
        "\n",
        "print('Loading weights...')\n",
        "model.load_weights(\"model/model_weights.h5\")"
      ],
      "metadata": {
        "id": "KIECLtYeH912"
      },
      "execution_count": null,
      "outputs": []
    },
    {
      "cell_type": "code",
      "source": [
        "labels = [ '0', '1', '2', '3', '4', '5', '6', '7', '8', '9','+','-','x']"
      ],
      "metadata": {
        "id": "4i4cPCcJH-qX"
      },
      "execution_count": null,
      "outputs": []
    },
    {
      "cell_type": "code",
      "source": [
        "from PIL import Image,ImageDraw,ImageGrab"
      ],
      "metadata": {
        "id": "gc6-3pNeIB70"
      },
      "execution_count": null,
      "outputs": []
    },
    {
      "cell_type": "code",
      "source": [
        "def activate_event(event):\n",
        "        global lasx,lasy\n",
        "        lasx,lasy=event.x,event.y   "
      ],
      "metadata": {
        "id": "9465t1j7ID9f"
      },
      "execution_count": null,
      "outputs": []
    },
    {
      "cell_type": "code",
      "source": [
        "def draw_smth(event):\n",
        "    global lasx,lasy\n",
        "    cv.create_line((lasx,lasy,event.x,event.y),fill='black',width=4)\n",
        "    #cv.draw.line([x1, y1, x2, y2], fill=\"black\", width=7)\n",
        "    lasx,lasy=event.x,event.y"
      ],
      "metadata": {
        "id": "E2soKhmHITpI"
      },
      "execution_count": null,
      "outputs": []
    },
    {
      "cell_type": "code",
      "source": [
        "def save():\n",
        "    filename=\"canvas.jpg\"\n",
        "    widget=cv\n",
        "    x=root.winfo_rootx()+widget.winfo_x()+50\n",
        "    y=root.winfo_rooty()+widget.winfo_y()+50\n",
        "    x1=x+widget.winfo_width()\n",
        "    y1=y+widget.winfo_height()\n",
        "    \n",
        "    ImageGrab.grab().crop((x,y,x1,y1)).save(filename)"
      ],
      "metadata": {
        "id": "eqEmZH68IVV8"
      },
      "execution_count": null,
      "outputs": []
    },
    {
      "cell_type": "code",
      "source": [
        "from sympy import *\n",
        "\n",
        "class Solver:\n",
        "\n",
        "    def __init__(self, equation):\n",
        "        self.equation = str(equation)\n",
        "        self.leftEqu = []\n",
        "\n",
        "    def convertEquationIntoGeneralForm(self):\n",
        "\n",
        "        leftSide, rightSide = '', ''\n",
        "        equalIndx = self.equation.index('=')\n",
        "        leftSide = self.equation[0:equalIndx]\n",
        "        rightSide = self.equation[equalIndx+1:len(self.equation)]\n",
        "\n",
        "        if rightSide[0].isalpha() or rightSide[0].isdigit():\n",
        "            rightSide = '+' + rightSide\n",
        "\n",
        "        for i in range(0, len(rightSide)):\n",
        "            if rightSide[i] == '+':\n",
        "                rightSide = rightSide[0:i] + '-' + rightSide[i+1:len(rightSide)]\n",
        "            elif rightSide[i] == '-':\n",
        "                rightSide = rightSide[0:i] + '+' + rightSide[i+1:len(rightSide)]\n",
        "            leftSide += rightSide[i]\n",
        "\n",
        "        self.equation = leftSide + '=' + '0'\n",
        "        self.leftEqu = leftSide\n",
        "\n",
        "    def solveEquation(self):\n",
        "\n",
        "        self.convertEquationIntoGeneralForm()\n",
        "        sympy_eq = sympify(\"Eq(\" + self.equation.replace(\"=\", \",\") + \")\")\n",
        "        roots = solve(sympy_eq)\n",
        "        \n",
        "        return roots  "
      ],
      "metadata": {
        "id": "7HwyVRK6IXUj"
      },
      "execution_count": null,
      "outputs": []
    },
    {
      "cell_type": "code",
      "source": [
        "def predictFromArray(arr):\n",
        "    result = model.predict_classes(arr)\n",
        "    return result    "
      ],
      "metadata": {
        "id": "PUNmoOMpIbMN"
      },
      "execution_count": null,
      "outputs": []
    },
    {
      "cell_type": "code",
      "source": [
        "def solution():\n",
        "    img = cv2.imread('canvas.jpg',cv2.IMREAD_GRAYSCALE)\n",
        "    img = ~img\n",
        "    ret,thresh = cv2.threshold(img,127, 255,cv2.THRESH_BINARY)\n",
        "    ctrs,_ = cv2.findContours(thresh, cv2.RETR_EXTERNAL, cv2.CHAIN_APPROX_SIMPLE)\n",
        "    cnt = sorted(ctrs, key=lambda ctr: cv2.boundingRect(ctr)[0])\n",
        "    img_data = []\n",
        "    rects = []\n",
        "    for c in cnt :\n",
        "        x, y, w, h = cv2.boundingRect(c)\n",
        "        rect = [x, y, w, h]\n",
        "        rects.append(rect)\n",
        "    final_rect = [i for i in rects]\n",
        "    for r in final_rect:\n",
        "        x,y,w,h = r[0],r[1],r[2],r[3]\n",
        "        img = thresh[y:y+h+10, x:x+w+10]\n",
        "        img = cv2.resize(img, (28, 28)) \n",
        "        img = np.reshape(img, (1, 28, 28)) \n",
        "        img_data.append(img)\n",
        "        \n",
        "    mainEquation=[]\n",
        "    operation = ''\n",
        "    for i in range(len(img_data)):\n",
        "                img_data[i] = np.array(img_data[i])\n",
        "                img_data[i] = img_data[i].reshape(-1, 28, 28, 1)\n",
        "                result=predictFromArray(img_data[i])\n",
        "                i=result[0]\n",
        "                mainEquation.append(labels[i])\n",
        "        \n",
        "    StringEquation=\"\"\n",
        "    for i in range(len(mainEquation)):\n",
        "            a=mainEquation[i]\n",
        "            if(a.isdigit()==False and a.isalpha()==False and i<len(mainEquation)-1):\n",
        "                if(a==mainEquation[i+1]=='-'):\n",
        "                    StringEquation+='='\n",
        "                else:\n",
        "                    StringEquation+=a\n",
        "            if(a.isalpha()==True):\n",
        "                if(i>0):\n",
        "                    if(mainEquation[i-1].isdigit()):\n",
        "                        StringEquation+=\"*\"+a\n",
        "                    else:\n",
        "                        StringEquation+=a\n",
        "                else:\n",
        "                    StringEquation+=a\n",
        "            if(a.isdigit()==True):\n",
        "                if(i>0):\n",
        "                    if(mainEquation[i-1].isdigit()):\n",
        "                        StringEquation+=a\n",
        "                    elif(mainEquation[i-1].isalpha()):\n",
        "                         StringEquation+=\"^\"+a\n",
        "                    else:\n",
        "                        StringEquation+=a\n",
        "                else:\n",
        "                    StringEquation+=a\n",
        "            \n",
        "    newStr=\"\"\n",
        "    l=list(StringEquation)   \n",
        "    for i in range(len(l)):\n",
        "            if(l[i]==\"=\"):\n",
        "                newStr=l[:i+1]+l[i+2:]\n",
        "    print(newStr)\n",
        "    equ=\"\"\n",
        "    for i in newStr:\n",
        "            equ+=i\n",
        "    solution=Solver(equ)\n",
        "            \n",
        "    str1=''        \n",
        "    roots=solution.solveEquation()\n",
        "    st=[]\n",
        "    for i in roots:\n",
        "        i=str(i)\n",
        "        st.append(i)\n",
        "       \n",
        "    str1=', '.join(st)\n",
        " \n",
        "    solving(equ,str1)      "
      ],
      "metadata": {
        "id": "iFRvtCJ4Ic6V"
      },
      "execution_count": null,
      "outputs": []
    },
    {
      "cell_type": "code",
      "source": [
        "from tkinter import*\n",
        "\n",
        "root=Tk()\n",
        "root.resizable(0,0)\n",
        "root.title('Equation Solver')\n",
        "\n",
        "lasx,lasy=None,None\n",
        "\n",
        "cv=Canvas(root,width=1200,height=500,bg='white')\n",
        "#cv=Canvas(root,width=1600,height=500,bg='white')\n",
        "cv.grid(row=0,column=0,pady=2,sticky=W,columnspan=2)\n",
        "cve2=Label(root)\n",
        "cve=Label(root,font=(\"Helvetica\",16))\n",
        "cve.grid(row=0, column=1,pady=1, padx=1)\n",
        "cve2.grid(row=1, column=1,pady=1, padx=1)\n",
        "\n",
        "cv.bind('<Button-1>',activate_event)\n",
        "cv.bind('<B1-Motion>',draw_smth)\n",
        "btn_save=Button(text=\"Save\",command=save,bg='#6495ED',fg='White')\n",
        "btn_save.grid(row=2,column=0,pady=1,padx=1)\n",
        "\n",
        "btn_predict=Button(text=\"Predict\",command=solution,bg='#6495ED',fg='White')\n",
        "btn_predict.grid(row=2,column=1,pady=1,padx=1)\n",
        "\n",
        "\n",
        "def solving(equ,roots):\n",
        "    \n",
        "    cve2.configure(text='Your Equation is : '+equ)\n",
        "    cve.configure(text='Result : '+(roots)+'\\n')    \n",
        "root.mainloop()"
      ],
      "metadata": {
        "id": "-s6JS6DFIfdn"
      },
      "execution_count": null,
      "outputs": []
    }
  ]
}